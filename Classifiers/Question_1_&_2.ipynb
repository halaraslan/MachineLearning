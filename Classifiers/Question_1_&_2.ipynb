{
 "cells": [
  {
   "cell_type": "code",
   "execution_count": 6,
   "metadata": {},
   "outputs": [],
   "source": [
    "import pandas as pd \n",
    "import numpy as np"
   ]
  },
  {
   "cell_type": "markdown",
   "metadata": {},
   "source": [
    "## Loading the dataset"
   ]
  },
  {
   "cell_type": "code",
   "execution_count": 7,
   "metadata": {},
   "outputs": [
    {
     "data": {
      "text/html": [
       "<div>\n",
       "<style scoped>\n",
       "    .dataframe tbody tr th:only-of-type {\n",
       "        vertical-align: middle;\n",
       "    }\n",
       "\n",
       "    .dataframe tbody tr th {\n",
       "        vertical-align: top;\n",
       "    }\n",
       "\n",
       "    .dataframe thead th {\n",
       "        text-align: right;\n",
       "    }\n",
       "</style>\n",
       "<table border=\"1\" class=\"dataframe\">\n",
       "  <thead>\n",
       "    <tr style=\"text-align: right;\">\n",
       "      <th></th>\n",
       "      <th>sepal_length</th>\n",
       "      <th>sepal_width</th>\n",
       "      <th>petal_length</th>\n",
       "      <th>petal_width</th>\n",
       "      <th>class</th>\n",
       "    </tr>\n",
       "  </thead>\n",
       "  <tbody>\n",
       "    <tr>\n",
       "      <td>0</td>\n",
       "      <td>5.1</td>\n",
       "      <td>3.5</td>\n",
       "      <td>1.4</td>\n",
       "      <td>0.2</td>\n",
       "      <td>Iris-setosa</td>\n",
       "    </tr>\n",
       "    <tr>\n",
       "      <td>1</td>\n",
       "      <td>4.9</td>\n",
       "      <td>3.0</td>\n",
       "      <td>1.4</td>\n",
       "      <td>0.2</td>\n",
       "      <td>Iris-setosa</td>\n",
       "    </tr>\n",
       "    <tr>\n",
       "      <td>2</td>\n",
       "      <td>4.7</td>\n",
       "      <td>3.2</td>\n",
       "      <td>1.3</td>\n",
       "      <td>0.2</td>\n",
       "      <td>Iris-setosa</td>\n",
       "    </tr>\n",
       "    <tr>\n",
       "      <td>3</td>\n",
       "      <td>4.6</td>\n",
       "      <td>3.1</td>\n",
       "      <td>1.5</td>\n",
       "      <td>0.2</td>\n",
       "      <td>Iris-setosa</td>\n",
       "    </tr>\n",
       "    <tr>\n",
       "      <td>4</td>\n",
       "      <td>5.0</td>\n",
       "      <td>3.6</td>\n",
       "      <td>1.4</td>\n",
       "      <td>0.2</td>\n",
       "      <td>Iris-setosa</td>\n",
       "    </tr>\n",
       "  </tbody>\n",
       "</table>\n",
       "</div>"
      ],
      "text/plain": [
       "   sepal_length  sepal_width  petal_length  petal_width       class \n",
       "0           5.1          3.5           1.4          0.2  Iris-setosa\n",
       "1           4.9          3.0           1.4          0.2  Iris-setosa\n",
       "2           4.7          3.2           1.3          0.2  Iris-setosa\n",
       "3           4.6          3.1           1.5          0.2  Iris-setosa\n",
       "4           5.0          3.6           1.4          0.2  Iris-setosa"
      ]
     },
     "execution_count": 7,
     "metadata": {},
     "output_type": "execute_result"
    }
   ],
   "source": [
    "iris = pd.read_csv(\"iris.arff\")\n",
    "iris.head()"
   ]
  },
  {
   "cell_type": "markdown",
   "metadata": {},
   "source": [
    "## Question 1 "
   ]
  },
  {
   "cell_type": "markdown",
   "metadata": {},
   "source": [
    "    - Training using diff models and 10 fold cross validation"
   ]
  },
  {
   "cell_type": "code",
   "execution_count": 8,
   "metadata": {},
   "outputs": [
    {
     "data": {
      "text/plain": [
       "Index(['sepal_length', 'sepal_width', 'petal_length', 'petal_width', 'class '], dtype='object')"
      ]
     },
     "execution_count": 8,
     "metadata": {},
     "output_type": "execute_result"
    }
   ],
   "source": [
    "iris.columns"
   ]
  },
  {
   "cell_type": "code",
   "execution_count": 9,
   "metadata": {},
   "outputs": [],
   "source": [
    "## Did this as class had a space after it for some reason\n",
    "\n",
    "iris = iris.rename(columns={'class ':'class'}) "
   ]
  },
  {
   "cell_type": "code",
   "execution_count": 10,
   "metadata": {
    "scrolled": true
   },
   "outputs": [],
   "source": [
    "iris['class'] = iris['class'].astype('category').cat.codes"
   ]
  },
  {
   "cell_type": "code",
   "execution_count": 11,
   "metadata": {},
   "outputs": [
    {
     "data": {
      "text/html": [
       "<div>\n",
       "<style scoped>\n",
       "    .dataframe tbody tr th:only-of-type {\n",
       "        vertical-align: middle;\n",
       "    }\n",
       "\n",
       "    .dataframe tbody tr th {\n",
       "        vertical-align: top;\n",
       "    }\n",
       "\n",
       "    .dataframe thead th {\n",
       "        text-align: right;\n",
       "    }\n",
       "</style>\n",
       "<table border=\"1\" class=\"dataframe\">\n",
       "  <thead>\n",
       "    <tr style=\"text-align: right;\">\n",
       "      <th></th>\n",
       "      <th>sepal_length</th>\n",
       "      <th>sepal_width</th>\n",
       "      <th>petal_length</th>\n",
       "      <th>petal_width</th>\n",
       "      <th>class</th>\n",
       "    </tr>\n",
       "  </thead>\n",
       "  <tbody>\n",
       "    <tr>\n",
       "      <td>0</td>\n",
       "      <td>5.1</td>\n",
       "      <td>3.5</td>\n",
       "      <td>1.4</td>\n",
       "      <td>0.2</td>\n",
       "      <td>0</td>\n",
       "    </tr>\n",
       "    <tr>\n",
       "      <td>1</td>\n",
       "      <td>4.9</td>\n",
       "      <td>3.0</td>\n",
       "      <td>1.4</td>\n",
       "      <td>0.2</td>\n",
       "      <td>0</td>\n",
       "    </tr>\n",
       "    <tr>\n",
       "      <td>2</td>\n",
       "      <td>4.7</td>\n",
       "      <td>3.2</td>\n",
       "      <td>1.3</td>\n",
       "      <td>0.2</td>\n",
       "      <td>0</td>\n",
       "    </tr>\n",
       "    <tr>\n",
       "      <td>3</td>\n",
       "      <td>4.6</td>\n",
       "      <td>3.1</td>\n",
       "      <td>1.5</td>\n",
       "      <td>0.2</td>\n",
       "      <td>0</td>\n",
       "    </tr>\n",
       "    <tr>\n",
       "      <td>4</td>\n",
       "      <td>5.0</td>\n",
       "      <td>3.6</td>\n",
       "      <td>1.4</td>\n",
       "      <td>0.2</td>\n",
       "      <td>0</td>\n",
       "    </tr>\n",
       "  </tbody>\n",
       "</table>\n",
       "</div>"
      ],
      "text/plain": [
       "   sepal_length  sepal_width  petal_length  petal_width  class\n",
       "0           5.1          3.5           1.4          0.2      0\n",
       "1           4.9          3.0           1.4          0.2      0\n",
       "2           4.7          3.2           1.3          0.2      0\n",
       "3           4.6          3.1           1.5          0.2      0\n",
       "4           5.0          3.6           1.4          0.2      0"
      ]
     },
     "execution_count": 11,
     "metadata": {},
     "output_type": "execute_result"
    }
   ],
   "source": [
    "iris.head()"
   ]
  },
  {
   "cell_type": "markdown",
   "metadata": {},
   "source": [
    "#### Loading the classifiers"
   ]
  },
  {
   "cell_type": "code",
   "execution_count": 12,
   "metadata": {},
   "outputs": [],
   "source": [
    "from sklearn.neighbors import KNeighborsClassifier\n",
    "from sklearn.svm import SVC\n",
    "from sklearn.tree import ExtraTreeClassifier\n",
    "from sklearn.ensemble import BaggingClassifier\n",
    "from sklearn.tree import DecisionTreeClassifier\n",
    "from sklearn.linear_model import LogisticRegression\n",
    "import sklearn\n",
    "\n",
    "from sklearn.model_selection import cross_val_predict # This is for cross-validation\n",
    "from sklearn.model_selection import cross_val_score # This is for cross-validation"
   ]
  },
  {
   "cell_type": "markdown",
   "metadata": {},
   "source": [
    "#### Splitting into features and output label"
   ]
  },
  {
   "cell_type": "code",
   "execution_count": 13,
   "metadata": {},
   "outputs": [
    {
     "data": {
      "text/html": [
       "<div>\n",
       "<style scoped>\n",
       "    .dataframe tbody tr th:only-of-type {\n",
       "        vertical-align: middle;\n",
       "    }\n",
       "\n",
       "    .dataframe tbody tr th {\n",
       "        vertical-align: top;\n",
       "    }\n",
       "\n",
       "    .dataframe thead th {\n",
       "        text-align: right;\n",
       "    }\n",
       "</style>\n",
       "<table border=\"1\" class=\"dataframe\">\n",
       "  <thead>\n",
       "    <tr style=\"text-align: right;\">\n",
       "      <th></th>\n",
       "      <th>sepal_length</th>\n",
       "      <th>sepal_width</th>\n",
       "      <th>petal_length</th>\n",
       "      <th>petal_width</th>\n",
       "    </tr>\n",
       "  </thead>\n",
       "  <tbody>\n",
       "    <tr>\n",
       "      <td>0</td>\n",
       "      <td>5.1</td>\n",
       "      <td>3.5</td>\n",
       "      <td>1.4</td>\n",
       "      <td>0.2</td>\n",
       "    </tr>\n",
       "    <tr>\n",
       "      <td>1</td>\n",
       "      <td>4.9</td>\n",
       "      <td>3.0</td>\n",
       "      <td>1.4</td>\n",
       "      <td>0.2</td>\n",
       "    </tr>\n",
       "  </tbody>\n",
       "</table>\n",
       "</div>"
      ],
      "text/plain": [
       "   sepal_length  sepal_width  petal_length  petal_width\n",
       "0           5.1          3.5           1.4          0.2\n",
       "1           4.9          3.0           1.4          0.2"
      ]
     },
     "execution_count": 13,
     "metadata": {},
     "output_type": "execute_result"
    }
   ],
   "source": [
    "X = iris.iloc[:,:4]\n",
    "X.head(2)"
   ]
  },
  {
   "cell_type": "code",
   "execution_count": 14,
   "metadata": {},
   "outputs": [
    {
     "data": {
      "text/plain": [
       "0    0\n",
       "1    0\n",
       "Name: class, dtype: int8"
      ]
     },
     "execution_count": 14,
     "metadata": {},
     "output_type": "execute_result"
    }
   ],
   "source": [
    "y = iris['class']\n",
    "y.head(2)"
   ]
  },
  {
   "cell_type": "markdown",
   "metadata": {},
   "source": [
    "### KNN"
   ]
  },
  {
   "cell_type": "code",
   "execution_count": 35,
   "metadata": {},
   "outputs": [
    {
     "name": "stdout",
     "output_type": "stream",
     "text": [
      "Accuracy of KNN with Cross Validation is: 96.66666666666666\n",
      "Balanced_accuracy of KNN with Cross Validation is: 96.66666666666666\n",
      "Sensitivity of KNN with Cross Validation is: 96.66666666666666\n",
      "f1_score of KNN with Cross Validation is: 96.59090909090908\n",
      "Matthews correlation coefficient 0.9500633396673706\n"
     ]
    }
   ],
   "source": [
    "model_knn = KNeighborsClassifier(n_neighbors=3)\n",
    "\n",
    "accuracy = cross_val_score(model_knn, X, y, scoring='accuracy', cv = 10)\n",
    "\n",
    "balanced_accuracy = cross_val_score(model_knn, X, y, scoring='balanced_accuracy', cv = 10)\n",
    "\n",
    "sensitivity = cross_val_score(model_knn, X, y, scoring='recall_macro', cv = 10)\n",
    "\n",
    "f1_score = cross_val_score(model_knn, X, y, scoring='f1_macro', cv = 10)\n",
    "\n",
    "\n",
    "\n",
    "print(\"Accuracy of KNN with Cross Validation is:\",accuracy.mean() * 100)\n",
    "print(\"Balanced_accuracy of KNN with Cross Validation is:\",balanced_accuracy.mean() * 100)\n",
    "print(\"Sensitivity of KNN with Cross Validation is:\",sensitivity.mean() * 100)\n",
    "print(\"f1_score of KNN with Cross Validation is:\",f1_score.mean() * 100)\n",
    "\n",
    "\n",
    "\n",
    "\n",
    "ypred = cross_val_predict(model_knn,X, y, cv=10)\n",
    "mcc = sklearn.metrics.matthews_corrcoef(y, ypred)\n",
    "print (\"Matthews correlation coefficient\",mcc)\n",
    "\n",
    "\n"
   ]
  },
  {
   "cell_type": "code",
   "execution_count": 36,
   "metadata": {},
   "outputs": [
    {
     "name": "stdout",
     "output_type": "stream",
     "text": [
      "Confusion Matrix  [[50  0  0]\n",
      " [ 0 47  3]\n",
      " [ 0  2 48]]\n"
     ]
    }
   ],
   "source": [
    "from sklearn.metrics import confusion_matrix\n",
    "\n",
    "ypred = cross_val_predict(model_knn,X, y, cv=10)\n",
    "conf_mat = confusion_matrix(y, ypred)\n",
    "print(\"Confusion Matrix \",conf_mat)\n",
    "\n",
    "\n"
   ]
  },
  {
   "cell_type": "code",
   "execution_count": 37,
   "metadata": {},
   "outputs": [],
   "source": [
    "def specificity(y,ypred):\n",
    "        cm=confusion_matrix(y, ypred)\n",
    "        FP = cm.sum(axis=0) - np.diag(cm)  \n",
    "        FN = cm.sum(axis=1) - np.diag(cm)\n",
    "        TP = np.diag(cm)\n",
    "        TN = cm.sum() - (FP + FN + TP)\n",
    "        Specificity = TN/(TN+FP)    \n",
    "        return np.mean(Specificity)"
   ]
  },
  {
   "cell_type": "code",
   "execution_count": 38,
   "metadata": {},
   "outputs": [
    {
     "name": "stdout",
     "output_type": "stream",
     "text": [
      "Specificity 0.9833333333333334\n"
     ]
    }
   ],
   "source": [
    "\n",
    "print(\"Specificity\",specificity(y,ypred))"
   ]
  },
  {
   "cell_type": "markdown",
   "metadata": {},
   "source": [
    "## SVC"
   ]
  },
  {
   "cell_type": "code",
   "execution_count": 19,
   "metadata": {
    "scrolled": true
   },
   "outputs": [
    {
     "name": "stdout",
     "output_type": "stream",
     "text": [
      "Accuracy with Cross Validation is: 97.33333333333334\n",
      "Balanced_accuracy  with Cross Validation is: 97.33333333333333\n",
      "Sensitivity with Cross Validation is: 97.33333333333333\n",
      "f1_score with Cross Validation is: 97.26430976430976\n",
      "Mathews correlation coefficient 0.9602561024455323\n"
     ]
    }
   ],
   "source": [
    "model = SVC(C=1,kernel='linear')\n",
    "\n",
    "accuracy = cross_val_score(model, X, y, scoring='accuracy', cv = 10)\n",
    "\n",
    "balanced_accuracy = cross_val_score(model, X, y, scoring='balanced_accuracy', cv = 10)\n",
    "\n",
    "sensitivity = cross_val_score(model, X, y, scoring='recall_macro', cv = 10)\n",
    "\n",
    "f1_score = cross_val_score(model, X, y, scoring='f1_macro', cv = 10)\n",
    "\n",
    "\n",
    "\n",
    "print(\"Accuracy with Cross Validation is:\",accuracy.mean() * 100)\n",
    "print(\"Balanced_accuracy  with Cross Validation is:\",balanced_accuracy.mean() * 100)\n",
    "print(\"Sensitivity with Cross Validation is:\",sensitivity.mean() * 100)\n",
    "print(\"f1_score with Cross Validation is:\",f1_score.mean() * 100)\n",
    "\n",
    "\n",
    "\n",
    "ypred = cross_val_predict(model,X, y, cv=10)\n",
    "mcc = sklearn.metrics.matthews_corrcoef(y, ypred)\n",
    "print (\"Mathews correlation coefficient\",mcc)\n",
    "\n",
    "\n"
   ]
  },
  {
   "cell_type": "code",
   "execution_count": 20,
   "metadata": {},
   "outputs": [
    {
     "name": "stdout",
     "output_type": "stream",
     "text": [
      "Confusion Matrix  [[50  0  0]\n",
      " [ 0 47  3]\n",
      " [ 0  1 49]]\n"
     ]
    }
   ],
   "source": [
    "from sklearn.metrics import confusion_matrix\n",
    "\n",
    "ypred = cross_val_predict(model,X, y, cv=10)\n",
    "conf_mat = confusion_matrix(y, ypred)\n",
    "print(\"Confusion Matrix \",conf_mat)\n",
    "\n",
    "\n",
    "\n"
   ]
  },
  {
   "cell_type": "code",
   "execution_count": 21,
   "metadata": {},
   "outputs": [
    {
     "name": "stdout",
     "output_type": "stream",
     "text": [
      "Specificity 0.9866666666666667\n"
     ]
    }
   ],
   "source": [
    "\n",
    "print(\"Specificity\",specificity(y,ypred))"
   ]
  },
  {
   "cell_type": "markdown",
   "metadata": {},
   "source": [
    "## ETC"
   ]
  },
  {
   "cell_type": "code",
   "execution_count": 22,
   "metadata": {},
   "outputs": [
    {
     "name": "stdout",
     "output_type": "stream",
     "text": [
      "Accuracy with Cross Validation is: 93.33333333333333\n",
      "Balanced_accuracy  with Cross Validation is: 93.33333333333333\n",
      "Sensitivity with Cross Validation is: 93.33333333333333\n",
      "f1_score with Cross Validation is: 93.27272727272727\n",
      "Mathews correlation coefficient 0.9002400960426865\n"
     ]
    }
   ],
   "source": [
    "model = ExtraTreeClassifier(max_depth=2,random_state=10)\n",
    "accuracy = cross_val_score(model, X, y, scoring='accuracy', cv = 10)\n",
    "\n",
    "balanced_accuracy = cross_val_score(model, X, y, scoring='balanced_accuracy', cv = 10)\n",
    "\n",
    "sensitivity = cross_val_score(model, X, y, scoring='recall_macro', cv = 10)\n",
    "\n",
    "f1_score = cross_val_score(model, X, y, scoring='f1_macro', cv = 10)\n",
    "\n",
    "\n",
    "\n",
    "print(\"Accuracy with Cross Validation is:\",accuracy.mean() * 100)\n",
    "print(\"Balanced_accuracy  with Cross Validation is:\",balanced_accuracy.mean() * 100)\n",
    "print(\"Sensitivity with Cross Validation is:\",sensitivity.mean() * 100)\n",
    "print(\"f1_score with Cross Validation is:\",f1_score.mean() * 100)\n",
    "\n",
    "\n",
    "\n",
    "ypred = cross_val_predict(model,X, y, cv=10)\n",
    "mcc = sklearn.metrics.matthews_corrcoef(y, ypred)\n",
    "print (\"Mathews correlation coefficient\",mcc)\n",
    "\n",
    "\n"
   ]
  },
  {
   "cell_type": "code",
   "execution_count": 23,
   "metadata": {},
   "outputs": [
    {
     "name": "stdout",
     "output_type": "stream",
     "text": [
      "Confusion Matrix  [[48  2  0]\n",
      " [ 0 45  5]\n",
      " [ 0  3 47]]\n"
     ]
    }
   ],
   "source": [
    "from sklearn.metrics import confusion_matrix\n",
    "\n",
    "ypred = cross_val_predict(model,X, y, cv=10)\n",
    "conf_mat = confusion_matrix(y, ypred)\n",
    "print(\"Confusion Matrix \",conf_mat)\n",
    "\n",
    "\n"
   ]
  },
  {
   "cell_type": "code",
   "execution_count": 24,
   "metadata": {},
   "outputs": [
    {
     "name": "stdout",
     "output_type": "stream",
     "text": [
      "Specificity 0.9666666666666667\n"
     ]
    }
   ],
   "source": [
    "print(\"Specificity\",specificity(y,ypred))\n",
    "\n",
    "\n"
   ]
  },
  {
   "cell_type": "markdown",
   "metadata": {},
   "source": [
    "## Bagging"
   ]
  },
  {
   "cell_type": "code",
   "execution_count": 25,
   "metadata": {},
   "outputs": [
    {
     "name": "stdout",
     "output_type": "stream",
     "text": [
      "Accuracy with Cross Validation is: 95.33333333333334\n",
      "Balanced_accuracy  with Cross Validation is: 95.33333333333331\n",
      "Sensitivity with Cross Validation is: 95.33333333333331\n",
      "f1_score with Cross Validation is: 95.2861952861953\n",
      "Mathews correlation coefficient 0.930062006200689\n"
     ]
    }
   ],
   "source": [
    "model = BaggingClassifier(n_estimators=10,random_state=10)\n",
    "\n",
    "accuracy = cross_val_score(model, X, y, scoring='accuracy', cv = 10)\n",
    "\n",
    "balanced_accuracy = cross_val_score(model, X, y, scoring='balanced_accuracy', cv = 10)\n",
    "\n",
    "sensitivity = cross_val_score(model, X, y, scoring='recall_macro', cv = 10)\n",
    "\n",
    "f1_score = cross_val_score(model, X, y, scoring='f1_macro', cv = 10)\n",
    "\n",
    "\n",
    "\n",
    "print(\"Accuracy with Cross Validation is:\",accuracy.mean() * 100)\n",
    "print(\"Balanced_accuracy  with Cross Validation is:\",balanced_accuracy.mean() * 100)\n",
    "print(\"Sensitivity with Cross Validation is:\",sensitivity.mean() * 100)\n",
    "print(\"f1_score with Cross Validation is:\",f1_score.mean() * 100)\n",
    "\n",
    "\n",
    "\n",
    "ypred = cross_val_predict(model,X, y, cv=10)\n",
    "mcc = sklearn.metrics.matthews_corrcoef(y, ypred)\n",
    "print (\"Mathews correlation coefficient\",mcc)\n",
    "\n"
   ]
  },
  {
   "cell_type": "code",
   "execution_count": 26,
   "metadata": {},
   "outputs": [
    {
     "name": "stdout",
     "output_type": "stream",
     "text": [
      "Confusion Matrix  [[50  0  0]\n",
      " [ 0 47  3]\n",
      " [ 0  4 46]]\n"
     ]
    }
   ],
   "source": [
    "from sklearn.metrics import confusion_matrix\n",
    "\n",
    "ypred = cross_val_predict(model,X, y, cv=10)\n",
    "conf_mat = confusion_matrix(y, ypred)\n",
    "print(\"Confusion Matrix \",conf_mat)\n",
    "\n"
   ]
  },
  {
   "cell_type": "code",
   "execution_count": 27,
   "metadata": {},
   "outputs": [
    {
     "name": "stdout",
     "output_type": "stream",
     "text": [
      "Specificity 0.9766666666666666\n"
     ]
    }
   ],
   "source": [
    "\n",
    "print(\"Specificity\",specificity(y,ypred))"
   ]
  },
  {
   "cell_type": "markdown",
   "metadata": {},
   "source": [
    "## DTC"
   ]
  },
  {
   "cell_type": "code",
   "execution_count": 28,
   "metadata": {},
   "outputs": [
    {
     "name": "stdout",
     "output_type": "stream",
     "text": [
      "Accuracy with Cross Validation is: 95.33333333333334\n",
      "Balanced_accuracy  with Cross Validation is: 94.66666666666667\n",
      "Sensitivity with Cross Validation is: 95.33333333333334\n",
      "f1_score with Cross Validation is: 95.25757575757575\n",
      "Mathews correlation coefficient 0.9305585027027279\n"
     ]
    }
   ],
   "source": [
    "model = DecisionTreeClassifier(max_depth = 2)\n",
    "\n",
    "\n",
    "accuracy = cross_val_score(model, X, y, scoring='accuracy', cv = 10)\n",
    "\n",
    "balanced_accuracy = cross_val_score(model, X, y, scoring='balanced_accuracy', cv = 10)\n",
    "\n",
    "sensitivity = cross_val_score(model, X, y, scoring='recall_macro', cv = 10)\n",
    "\n",
    "f1_score = cross_val_score(model, X, y, scoring='f1_macro', cv = 10)\n",
    "\n",
    "\n",
    "\n",
    "print(\"Accuracy with Cross Validation is:\",accuracy.mean() * 100)\n",
    "print(\"Balanced_accuracy  with Cross Validation is:\",balanced_accuracy.mean() * 100)\n",
    "print(\"Sensitivity with Cross Validation is:\",sensitivity.mean() * 100)\n",
    "print(\"f1_score with Cross Validation is:\",f1_score.mean() * 100)\n",
    "\n",
    "\n",
    "\n",
    "ypred = cross_val_predict(model,X, y, cv=10)\n",
    "mcc = sklearn.metrics.matthews_corrcoef(y, ypred)\n",
    "print (\"Mathews correlation coefficient\",mcc)\n",
    "\n"
   ]
  },
  {
   "cell_type": "code",
   "execution_count": 29,
   "metadata": {},
   "outputs": [
    {
     "name": "stdout",
     "output_type": "stream",
     "text": [
      "Confusion Matrix  [[50  0  0]\n",
      " [ 0 48  2]\n",
      " [ 0  5 45]]\n"
     ]
    }
   ],
   "source": [
    "from sklearn.metrics import confusion_matrix\n",
    "\n",
    "ypred = cross_val_predict(model,X, y, cv=10)\n",
    "conf_mat = confusion_matrix(y, ypred)\n",
    "print(\"Confusion Matrix \",conf_mat)\n",
    "\n",
    "\n",
    "\n",
    "\n"
   ]
  },
  {
   "cell_type": "code",
   "execution_count": 30,
   "metadata": {},
   "outputs": [
    {
     "name": "stdout",
     "output_type": "stream",
     "text": [
      "Specificity 0.9766666666666666\n"
     ]
    }
   ],
   "source": [
    "print(\"Specificity\",specificity(y,ypred))\n",
    "\n"
   ]
  },
  {
   "cell_type": "markdown",
   "metadata": {},
   "source": [
    "## LR"
   ]
  },
  {
   "cell_type": "code",
   "execution_count": 31,
   "metadata": {},
   "outputs": [
    {
     "name": "stdout",
     "output_type": "stream",
     "text": [
      "Accuracy with Cross Validation is: 95.33333333333334\n",
      "Balanced_accuracy  with Cross Validation is: 95.33333333333334\n",
      "Sensitivity with Cross Validation is: 95.33333333333334\n",
      "f1_score with Cross Validation is: 95.2861952861953\n",
      "Mathews correlation coefficient 0.9305585027027279\n"
     ]
    }
   ],
   "source": [
    "model = LogisticRegression(solver='liblinear',multi_class='ovr')\n",
    "\n",
    "accuracy = cross_val_score(model, X, y, scoring='accuracy', cv = 10)\n",
    "\n",
    "balanced_accuracy = cross_val_score(model, X, y, scoring='balanced_accuracy', cv = 10)\n",
    "\n",
    "sensitivity = cross_val_score(model, X, y, scoring='recall_macro', cv = 10)\n",
    "\n",
    "f1_score = cross_val_score(model, X, y, scoring='f1_macro', cv = 10)\n",
    "\n",
    "\n",
    "\n",
    "print(\"Accuracy with Cross Validation is:\",accuracy.mean() * 100)\n",
    "print(\"Balanced_accuracy  with Cross Validation is:\",balanced_accuracy.mean() * 100)\n",
    "print(\"Sensitivity with Cross Validation is:\",sensitivity.mean() * 100)\n",
    "print(\"f1_score with Cross Validation is:\",f1_score.mean() * 100)\n",
    "\n",
    "\n",
    "\n",
    "ypred = cross_val_predict(model,X, y, cv=10)\n",
    "mcc = sklearn.metrics.matthews_corrcoef(y, ypred)\n",
    "print (\"Mathews correlation coefficient\",mcc)\n",
    "\n",
    "\n"
   ]
  },
  {
   "cell_type": "code",
   "execution_count": 32,
   "metadata": {},
   "outputs": [
    {
     "name": "stdout",
     "output_type": "stream",
     "text": [
      "Confusion Matrix  [[50  0  0]\n",
      " [ 0 45  5]\n",
      " [ 0  2 48]]\n"
     ]
    }
   ],
   "source": [
    "from sklearn.metrics import confusion_matrix\n",
    "\n",
    "ypred = cross_val_predict(model,X, y, cv=10)\n",
    "conf_mat = confusion_matrix(y, ypred)\n",
    "print(\"Confusion Matrix \",conf_mat)\n",
    "\n",
    "\n",
    "\n",
    "\n",
    "\n"
   ]
  },
  {
   "cell_type": "code",
   "execution_count": 33,
   "metadata": {},
   "outputs": [
    {
     "name": "stdout",
     "output_type": "stream",
     "text": [
      "Specificity 0.9766666666666666\n"
     ]
    }
   ],
   "source": [
    "print(\"Specificity\",specificity(y,ypred))\n",
    "\n",
    "\n"
   ]
  }
 ],
 "metadata": {
  "kernelspec": {
   "display_name": "Python 3",
   "language": "python",
   "name": "python3"
  },
  "language_info": {
   "codemirror_mode": {
    "name": "ipython",
    "version": 3
   },
   "file_extension": ".py",
   "mimetype": "text/x-python",
   "name": "python",
   "nbconvert_exporter": "python",
   "pygments_lexer": "ipython3",
   "version": "3.7.4"
  }
 },
 "nbformat": 4,
 "nbformat_minor": 4
}
